{
 "cells": [
  {
   "cell_type": "code",
   "execution_count": 15,
   "metadata": {
    "id": "P65d3tdjCYf3"
   },
   "outputs": [],
   "source": [
    "import numpy as np\n",
    "import pandas as pd"
   ]
  },
  {
   "cell_type": "markdown",
   "metadata": {
    "id": "GUjMN4nzMPU5"
   },
   "source": []
  },
  {
   "cell_type": "markdown",
   "metadata": {
    "id": "t7wicloCMeuZ"
   },
   "source": [
    "## Import Metastatic Tissue Dataset"
   ]
  },
  {
   "cell_type": "code",
   "execution_count": 16,
   "metadata": {
    "id": "zcgQDASdOdIx"
   },
   "outputs": [],
   "source": [
    "import torch\n",
    "from torch import nn\n",
    "from torch.utils.data import Dataset\n",
    "import h5py\n",
    "from tqdm.notebook import tqdm\n",
    "import torch.nn.functional as F"
   ]
  },
  {
   "cell_type": "code",
   "execution_count": 4,
   "metadata": {
    "id": "gYPdh8fsOpxf"
   },
   "outputs": [
    {
     "name": "stdout",
     "output_type": "stream",
     "text": [
      "torch.Size([262144, 96, 96, 3])\n",
      "torch.Size([262144])\n"
     ]
    }
   ],
   "source": [
    "def load_data(filename):\n",
    "    with h5py.File(filename, \"r\") as f:\n",
    "        # List all groups\n",
    "        a_group_key = list(f.keys())[0]\n",
    "\n",
    "        # Get the data\n",
    "        data = torch.from_numpy(f[a_group_key][:])\n",
    "        return data\n",
    "    \n",
    "training_images = load_data(\"./pcam/training_split.h5\")\n",
    "print(training_images.shape)\n",
    "\n",
    "training_labels = load_data(\"./Labels/Labels/camelyonpatch_level_2_split_train_y.h5\").squeeze()\n",
    "print(training_labels.shape)"
   ]
  },
  {
   "cell_type": "code",
   "execution_count": 146,
   "metadata": {},
   "outputs": [],
   "source": [
    "class TissueCNN(nn.Module):\n",
    "    def __init__(self):\n",
    "        super().__init__()\n",
    "        self.convd = nn.Conv2d(in_channels=3, out_channels=1, kernel_size = (4,4))\n",
    "        self.maxPool = nn.MaxPool2d(kernel_size = (2,2), stride = 1)\n",
    "        self.Relu = nn.ReLU()\n",
    "        self.linear = nn.Linear(8464, 2)\n",
    "        self.soft = nn.Softmax()\n",
    "\n",
    "    def forward(self, x):\n",
    "        x = x.reshape(1,3,96,96)\n",
    "        x = x.type(torch.FloatTensor)\n",
    "#         print(x.shape)\n",
    "        out = self.convd(x)\n",
    "#         print(out.shape)\n",
    "        out = self.maxPool(out)\n",
    "#         print(out.shape)\n",
    "        out = self.Relu(out)\n",
    "#         print(out.shape)\n",
    "        out = torch.flatten(out)\n",
    "#         print(out.shape)\n",
    "        out = self.linear(out)\n",
    "#         print(out.shape)\n",
    "        out = self.soft(out)\n",
    "#         print(out.shape)\n",
    "        return out"
   ]
  },
  {
   "cell_type": "markdown",
   "metadata": {
    "id": "t5W5c_lDE7Ch"
   },
   "source": [
    "### Data Cleaning"
   ]
  },
  {
   "cell_type": "code",
   "execution_count": 147,
   "metadata": {},
   "outputs": [
    {
     "name": "stdout",
     "output_type": "stream",
     "text": [
      "TissueCNN(\n",
      "  (convd): Conv2d(3, 1, kernel_size=(4, 4), stride=(1, 1))\n",
      "  (maxPool): MaxPool2d(kernel_size=(2, 2), stride=1, padding=0, dilation=1, ceil_mode=False)\n",
      "  (Relu): ReLU()\n",
      "  (linear): Linear(in_features=8464, out_features=2, bias=True)\n",
      "  (soft): Softmax(dim=None)\n",
      ")\n"
     ]
    }
   ],
   "source": [
    "model = TissueCNN()\n",
    "print(model)\n",
    "criterion = nn.CrossEntropyLoss()\n",
    "optimizer = torch.optim.SGD(model.parameters(), lr=0.01, weight_decay=0)\n",
    "# batch_size = 64\n",
    "# train_loader = torch.utils.data.DataLoader(train_set, batch_size, sampler = train_sampler)\n",
    "# val_loader = torch.utils.data.DataLoader(train_set, batch_size, sampler = val_sampler)\n",
    "# test_loader = torch.utils.data.DataLoader(test_set, batch_size)"
   ]
  },
  {
   "cell_type": "code",
   "execution_count": 148,
   "metadata": {},
   "outputs": [],
   "source": [
    "def train_network(model, training_images, labels, criterion, optimizer, nepoch=100):\n",
    "    try:\n",
    "        for epoch in tqdm(range(nepoch)):\n",
    "            print('EPOCH %d'%epoch)\n",
    "            total_loss = 0\n",
    "            count = 0\n",
    "#             print(\"labels\")\n",
    "#             print(labels.shape)\n",
    "            ##\n",
    "            for inp, label in zip(training_images, labels):\n",
    "                optimizer.zero_grad()\n",
    "                outputs = model.forward(inp)\n",
    "#                 print(\"Outputs {} {} label {}\".format(outputs, outputs.shape, label))\n",
    "#                 print(\"Here\")\n",
    "#                 print(label.item())\n",
    "#                 print(outputs)\n",
    "#                 print(outputs.shape)\n",
    "#                 print(label.shape)\n",
    "#                 print(\"Here\")\n",
    "                label = label.unsqueeze(0)\n",
    "                label = label.type(torch.LongTensor)\n",
    "                outputs = outputs.unsqueeze(0)\n",
    "#                 print(outputs.shape)\n",
    "#                 print(label.shape)\n",
    "                loss = criterion(outputs, label)\n",
    "                loss.backward()\n",
    "                optimizer.step()\n",
    "                total_loss += loss.item()\n",
    "                count += 1\n",
    "            print('{:>12s} {:>7.5f}'.format('Train loss:', total_loss/count))\n",
    "            print()\n",
    "    except KeyboardInterrupt:\n",
    "        print('Exiting from training early')\n",
    "    return"
   ]
  },
  {
   "cell_type": "code",
   "execution_count": null,
   "metadata": {},
   "outputs": [
    {
     "data": {
      "application/vnd.jupyter.widget-view+json": {
       "model_id": "2e5bf0272c554fb19d226ec5dc718dd5",
       "version_major": 2,
       "version_minor": 0
      },
      "text/plain": [
       "  0%|          | 0/100 [00:00<?, ?it/s]"
      ]
     },
     "metadata": {},
     "output_type": "display_data"
    },
    {
     "name": "stdout",
     "output_type": "stream",
     "text": [
      "EPOCH 0\n"
     ]
    },
    {
     "name": "stderr",
     "output_type": "stream",
     "text": [
      "<ipython-input-146-5c61db49eb37>:24: UserWarning: Implicit dimension choice for softmax has been deprecated. Change the call to include dim=X as an argument.\n",
      "  out = self.soft(out)\n"
     ]
    },
    {
     "name": "stdout",
     "output_type": "stream",
     "text": [
      " Train loss: 0.81326\n",
      "\n",
      "EPOCH 1\n",
      " Train loss: 0.81326\n",
      "\n",
      "EPOCH 2\n",
      " Train loss: 0.81326\n",
      "\n",
      "EPOCH 3\n",
      " Train loss: 0.81326\n",
      "\n",
      "EPOCH 4\n",
      " Train loss: 0.81326\n",
      "\n",
      "EPOCH 5\n",
      " Train loss: 0.81326\n",
      "\n",
      "EPOCH 6\n",
      " Train loss: 0.81326\n",
      "\n",
      "EPOCH 7\n",
      " Train loss: 0.81326\n",
      "\n",
      "EPOCH 8\n",
      " Train loss: 0.81326\n",
      "\n",
      "EPOCH 9\n",
      " Train loss: 0.81326\n",
      "\n",
      "EPOCH 10\n",
      " Train loss: 0.81326\n",
      "\n",
      "EPOCH 11\n"
     ]
    }
   ],
   "source": [
    "\n",
    "train_network(model, training_images, training_labels.squeeze(), criterion, optimizer)"
   ]
  },
  {
   "cell_type": "code",
   "execution_count": null,
   "metadata": {},
   "outputs": [],
   "source": []
  },
  {
   "cell_type": "code",
   "execution_count": null,
   "metadata": {},
   "outputs": [],
   "source": []
  }
 ],
 "metadata": {
  "colab": {
   "collapsed_sections": [
    "IgSOgkcuEbVo",
    "qu0wps8iEhWc"
   ],
   "name": "Neural_Net_final_project.ipynb",
   "provenance": []
  },
  "kernelspec": {
   "display_name": "Python 3",
   "language": "python",
   "name": "python3"
  },
  "language_info": {
   "codemirror_mode": {
    "name": "ipython",
    "version": 3
   },
   "file_extension": ".py",
   "mimetype": "text/x-python",
   "name": "python",
   "nbconvert_exporter": "python",
   "pygments_lexer": "ipython3",
   "version": "3.8.8"
  }
 },
 "nbformat": 4,
 "nbformat_minor": 1
}
